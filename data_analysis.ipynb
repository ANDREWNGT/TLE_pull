{
 "cells": [
  {
   "cell_type": "markdown",
   "metadata": {},
   "source": [
    "# Tool to obtain valid launch times of a satellite A to target specific orbit plane to trail another satellite B in RAAN\n",
    "\n",
    "Code flow:\n",
    "1. Pull TLE data from Celestrak\n",
    "2. Propagate target satellite B's RAAN for specified time with J2 effect\n",
    "3. Obtain RAAN target plane for satellite A to launch into \n",
    "4. Match RAAN to LAN of launch site within tolerance, correcting LAN with the angle between vernal equinox and prime meridian\n",
    "5. Obtain time stamps when condition in step 4 are valid. These are valid launch times subject to the tolerance chosen. \n",
    "\n",
    "\n",
    "Required inputs:\n",
    "data_propagate_J2_list - list of strings, in form \"YYYYMMDD\"\n",
    "cat_id - int, NORAD ID of satellite. NEUSAR--> 52937"
   ]
  },
  {
   "cell_type": "code",
   "execution_count": 1,
   "metadata": {},
   "outputs": [
    {
     "data": {
      "application/javascript": "MathJax.Hub.Config({\n    TeX: { equationNumbers: { autoNumber: \"AMS\" } }\n});\n",
      "text/plain": [
       "<IPython.core.display.Javascript object>"
      ]
     },
     "metadata": {},
     "output_type": "display_data"
    }
   ],
   "source": [
    "%%javascript\n",
    "MathJax.Hub.Config({\n",
    "    TeX: { equationNumbers: { autoNumber: \"AMS\" } }\n",
    "});"
   ]
  },
  {
   "cell_type": "code",
   "execution_count": 2,
   "metadata": {},
   "outputs": [],
   "source": [
    "from propagate_J2 import propagate_J2\n",
    "\n",
    "data_propagate_J2_list = [\"20221101\", \"20221201\", \\\n",
    "\"20230101\", \"20230201\", \"20230301\", \"20230401\", \"20230501\"]\n",
    "cat_id = 52937 \n",
    "\n"
   ]
  },
  {
   "cell_type": "markdown",
   "metadata": {},
   "source": [
    "# Propagate orbit plane's RAAN with J2 effect\n",
    "Using the most current TLE from Celestrak, we output the RAAN due to J2 on a date in the future. \n",
    "\n",
    "The rate of change of RAAN with time: \n",
    "\\begin{equation}\n",
    "\\frac{d\\omega}{dt} = -\\frac{3}{2}J_2(\\frac{R_E^2}{a^2(1-e^2)})^2\\times \\tilde{n}\\cos{i}\n",
    "\\end{equation}\n",
    "\n",
    "$R_E$ denotes the radius of Earth (km)  \n",
    "$\\mu_E$ denotes the gravitational constant of the earth  \n",
    "$\\tilde{n}$ denotes the perturbed mean motion. Some authors use mean motion rather than its perturbed version for simplicity, however this introduces errors over longer periods of time. Using the perturbed mean motion also gives a closer value to HPOP, which serves as a ground truth. (K.F. Wakker, Page 631, Fundamentals of Astrodynamics, TU Delft 2015)\n",
    "\n",
    "The perturbed mean motion is related to the mean motion $n$, via: \n",
    "\\begin{equation}\n",
    "\\tilde{n} = n [1 + \\frac{3}{4}J_2(\\frac{R}{a})^2(1-e^2)^(-3/2)(3\\cos(i)^2-1)]\n",
    "\\end{equation}"
   ]
  },
  {
   "cell_type": "markdown",
   "metadata": {},
   "source": [
    "# Obtaining target orbit plane\n",
    "\n",
    "We are interested in launching our satellite into a target plane, displaced by 120 $\\degree$ from NeuSAR. This is done by simply subtracting 120 $\\degree$ from NeuSAR's RAAN."
   ]
  },
  {
   "cell_type": "code",
   "execution_count": 3,
   "metadata": {},
   "outputs": [
    {
     "name": "stdout",
     "output_type": "stream",
     "text": [
      "RAAN of cat id 52937 is 250.84685 deg on 01/11/2022, 08:39 UTC, 26 days from today.\n",
      "RAAN of cat id 52937 is 32.36360 deg on 01/12/2022, 08:39 UTC, 56 days from today.\n",
      "RAAN of cat id 52937 is 166.59757 deg on 01/01/2023, 08:39 UTC, 87 days from today.\n",
      "RAAN of cat id 52937 is 300.83154 deg on 01/02/2023, 08:39 UTC, 118 days from today.\n",
      "RAAN of cat id 52937 is 96.91384 deg on 01/03/2023, 08:39 UTC, 146 days from today.\n",
      "RAAN of cat id 52937 is 231.14781 deg on 01/04/2023, 08:39 UTC, 177 days from today.\n",
      "RAAN of cat id 52937 is 12.66456 deg on 01/05/2023, 08:39 UTC, 207 days from today.\n"
     ]
    }
   ],
   "source": [
    "overall_df = propagate_J2(data_propagate_J2_list, cat_id)"
   ]
  },
  {
   "cell_type": "markdown",
   "metadata": {},
   "source": [
    "# Valid launch times\n",
    "Final goal is to get valid times to launch. Since the launch site is fixed, and we know the target orbit plane we require and how it evolves over time, we are able to then match the target orbit plane's RAAN with the Longitude of ascending node (LAN) from launching satellite into orbit at a certain time. The time of day and date affects the LAN, so the launch window is dependent on both the date and time of day.  \n",
    "\n",
    "With a variable del_RAAN to set the tolerance for the orbit plane, which accounts for uncertainties such as the launch trajectory, we can select valid launch times where the target RAAN matches the LAN within tolerance. This then becomes the valid launch times.  \n",
    "\n",
    "It is recommended for del_RAAN $ > 4$ as the launch duration is slated to be 20mins +, which translates to a rotation of about 2.5 $\\degree$ in longitude from the time of launch to end.  \n"
   ]
  },
  {
   "cell_type": "code",
   "execution_count": null,
   "metadata": {},
   "outputs": [],
   "source": [
    "from propagate_J2 import output_launch_times\n",
    "\n",
    "RAAN_tol = 5 #degrees\n",
    "launch_site_coords = (13.73204, 80.23621)\n",
    "launch_azimuth = 102 #degree\n",
    "launch_data = output_launch_times(overall_df, launch_site_coords, RAAN_tol)\n",
    "valid_launch_times = launch_data[\"T_prop_T2\"]"
   ]
  },
  {
   "cell_type": "markdown",
   "metadata": {},
   "source": [
    "# Verification of analytical method with HPOP\n"
   ]
  },
  {
   "cell_type": "markdown",
   "metadata": {},
   "source": []
  }
 ],
 "metadata": {
  "kernelspec": {
   "display_name": "Python 3.8.8 ('base')",
   "language": "python",
   "name": "python3"
  },
  "language_info": {
   "codemirror_mode": {
    "name": "ipython",
    "version": 3
   },
   "file_extension": ".py",
   "mimetype": "text/x-python",
   "name": "python",
   "nbconvert_exporter": "python",
   "pygments_lexer": "ipython3",
   "version": "3.8.8"
  },
  "orig_nbformat": 4,
  "vscode": {
   "interpreter": {
    "hash": "c5036632ca4e40e343532b337e63f89e45092a44df4e3f394744c71ca0c986f2"
   }
  }
 },
 "nbformat": 4,
 "nbformat_minor": 2
}
