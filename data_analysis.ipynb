{
 "cells": [
  {
   "attachments": {},
   "cell_type": "markdown",
   "metadata": {},
   "source": [
    "# Tool for valid launch times of a satellite A to target specific orbit plane to trail RAAN of a satellite B \n",
    "\n",
    "Author: Andrew Ng, 16/11/2022\n",
    "\n",
    "Code flow:\n",
    "1. Pull TLE data from Celestrak\n",
    "2. Propagate target satellite B's RAAN for specified time with J2 effect\n",
    "3. Obtain RAAN target plane for satellite A to launch into \n",
    "4. Match RAAN to longitude of launch site within tolerance, correcting longitude with the angle between vernal equinox and prime meridian. \n",
    "5. Obtain time stamps when condition in step 4 are valid. These are valid launch times subject to the tolerance chosen. \n",
    "\n",
    "\n",
    "Required inputs:\n",
    "data_propagate_J2_list - list of strings, in form \"YYYYMMDD\". This is your target launch date. There will be 1 launch window per day.\n",
    "cat_id - int, NORAD ID of satellite. NEUSAR--> 52937\n",
    "\n",
    "### Output of this code: \n",
    "2 csv files: \"valid_launch_times_jupyter.csv\" and \"output_data_jupyter.csv\". \n",
    "\n",
    "The former contains valid launch times matching the RAAN condition for T2, along with the uncertainty in RAAN purely due to the uncertainity in launch azimuth/ launch sequence which are not provided by ISRO. \n",
    "\n",
    "The latter contains data for all propagated timesteps. "
   ]
  },
  {
   "cell_type": "markdown",
   "metadata": {},
   "source": [
    "First install dependencies."
   ]
  },
  {
   "cell_type": "code",
   "execution_count": 11,
   "metadata": {},
   "outputs": [
    {
     "name": "stdout",
     "output_type": "stream",
     "text": [
      "\n",
      "Note: you may need to restart the kernel to use updated packages.\n"
     ]
    },
    {
     "name": "stderr",
     "output_type": "stream",
     "text": [
      "\n",
      "EnvironmentLocationNotFound: Not a conda environment: C:\\UsersNgengtonAnaconda3\n",
      "\n"
     ]
    }
   ],
   "source": [
    "import sys\n",
    "%conda install --yes --prefix {sys.prefix} numpy"
   ]
  },
  {
   "cell_type": "code",
   "execution_count": 12,
   "metadata": {},
   "outputs": [],
   "source": [
    "from propagate_J2 import propagate_J2\n",
    "\n",
    "data_propagate_J2_list = [\"20230422\"]\n",
    "cat_id = 52937  #NEUSAR\n",
    "use_today_date = True\n",
    "\n"
   ]
  },
  {
   "attachments": {},
   "cell_type": "markdown",
   "metadata": {},
   "source": [
    "# Propagate orbit plane's RAAN with J2 effect\n",
    "Using the most current TLE from Celestrak, we output the RAAN due to J2 on a date in the future. \n",
    "\n",
    "The rate of change of RAAN with time: \n",
    "\\begin{equation}\n",
    "\\frac{d\\Omega}{dt} = -\\frac{3}{2}J_2(\\frac{R_E^2}{a^2(1-e^2)})^2\\times \\tilde{n}\\cos{i}\n",
    "\\end{equation}\n",
    "\n",
    "$R_E$ denotes the radius of Earth (km)  \n",
    "$\\mu_E$ denotes the gravitational constant of the earth  \n",
    "$\\tilde{n}$ denotes the perturbed mean motion. Some authors use mean motion rather than its perturbed version for simplicity, however this introduces errors over longer periods of time. Using the perturbed mean motion also gives a closer value to HPOP, which serves as a ground truth. (K.F. Wakker, Page 631, Fundamentals of Astrodynamics, TU Delft 2015)\n",
    "\n",
    "The perturbed mean motion is related to the mean motion $n$, via: \n",
    "\\begin{equation}\n",
    "\\tilde{n} = n [1 + \\frac{3}{4}J_2(\\frac{R}{a})^2(1-e^2)^(-3/2)(3\\cos(i)^2-1)]\n",
    "\\end{equation}\n",
    "\n",
    "\n",
    "Lastly, the final RAAN value is corrected by including a linear interpolation of the deviation between the J2 propagator and HPOP from STK. This is done by precomputing deviations over days between TLE and prediction epoch. HPOP models all gravitational harmonics and perturbing forces, and because of this, the RAAN precession effect is greater than the J2 analytical method we are using. This difference is determinisitic for our use case, so we proceed by using the interpolation to correct for our RAAN value. \n",
    "\n",
    "\\begin{equation}\n",
    "deviation = {RAAN}_{HPOP}-{RAAN}_{J2}\n",
    "\\end{equation}\n",
    "\n",
    "<img src=\"deviation_between_j2_hpop.png\" />"
   ]
  },
  {
   "attachments": {},
   "cell_type": "markdown",
   "metadata": {},
   "source": [
    "# Obtaining target orbit plane\n",
    "\n",
    "We are interested in launching our satellite into a target plane, displaced by $120\\degree$ from NeuSAR. This is done by simply subtracting $120\\degree$ from NeuSAR's RAAN. I.e\n",
    "\\begin{equation}\n",
    "RAAN_{T2} = RAAN_{NeuSAR} - 120\\degree\n",
    "\\end{equation}"
   ]
  },
  {
   "cell_type": "code",
   "execution_count": 13,
   "metadata": {},
   "outputs": [
    {
     "name": "stdout",
     "output_type": "stream",
     "text": [
      "d:\\GitHub\\TLE_pull\\pulled_data\\data_20230228\\230228_NEUSAR_52937.tle\n",
      "Inclination of orbit is: 9.985\n"
     ]
    }
   ],
   "source": [
    "overall_df = propagate_J2(data_propagate_J2_list, cat_id, use_today_date)"
   ]
  },
  {
   "cell_type": "markdown",
   "metadata": {},
   "source": [
    "# Valid launch times\n",
    "Final goal is to get valid times to launch. Since the launch site is fixed, and we know the target orbit plane we require and how it evolves over time, we are able to then match the target orbit plane's RAAN with the $RAAN_{launched}$, the RAAN from launching satellite into orbit at a certain time. The time of day and date affects the $RAAN_{launched}$, so the launch window is dependent on both the date and time of day.  \n",
    "\n",
    "Relation between $RAAN_{launched}$ and RAAN is via the greenwich apparent sidereal angle (GAST)\n",
    "\n",
    "<img src=\"Sidereal_Time_Fig_2.png\" />\n",
    "\n",
    "$RAAN_{launched} = GAST + \\text{launch site longitude accounting for launch azimuth}$\n",
    "\n",
    "With a variable del_RAAN to set the tolerance for the orbit plane, which accounts for uncertainties such as the launch trajectory, we can select valid launch times where the target RAAN matches the LAN within tolerance. These then becomes the valid launch times.  \n",
    "\n",
    "It is recommended for del_RAAN $ > 4$ as the launch duration is slated to be 20mins +, which translates to a rotation of about $2.5\\degree$ in longitude from the time of launch to end.  \n",
    "\n"
   ]
  },
  {
   "cell_type": "markdown",
   "metadata": {},
   "source": []
  },
  {
   "cell_type": "code",
   "execution_count": 14,
   "metadata": {},
   "outputs": [],
   "source": [
    "from propagate_J2 import output_launch_times\n",
    "\n",
    "RAAN_tol = 5 #degrees\n",
    "launch_site_coords = (13.73204, 80.23621)\n",
    "launch_azimuth = 102 #degree\n",
    "launch_data = output_launch_times(overall_df, launch_site_coords, RAAN_tol)\n",
    "valid_launch_times = launch_data[\"T_prop_T2 (UTC)\"]\n",
    "\n"
   ]
  },
  {
   "cell_type": "markdown",
   "metadata": {},
   "source": [
    "Output data to .csv files. "
   ]
  },
  {
   "cell_type": "code",
   "execution_count": 15,
   "metadata": {},
   "outputs": [],
   "source": [
    "overall_df.to_csv(\"output_data_jupyter.csv\")\n",
    "launch_data.to_csv(\"valid_launch_times_jupyter.csv\", index = False)"
   ]
  }
 ],
 "metadata": {
  "kernelspec": {
   "display_name": "Python 3.8.8 ('base')",
   "language": "python",
   "name": "python3"
  },
  "language_info": {
   "codemirror_mode": {
    "name": "ipython",
    "version": 3
   },
   "file_extension": ".py",
   "mimetype": "text/x-python",
   "name": "python",
   "nbconvert_exporter": "python",
   "pygments_lexer": "ipython3",
   "version": "3.8.8"
  },
  "orig_nbformat": 4,
  "vscode": {
   "interpreter": {
    "hash": "c5036632ca4e40e343532b337e63f89e45092a44df4e3f394744c71ca0c986f2"
   }
  }
 },
 "nbformat": 4,
 "nbformat_minor": 2
}
